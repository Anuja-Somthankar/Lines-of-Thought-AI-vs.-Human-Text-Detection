{
 "cells": [
  {
   "cell_type": "markdown",
   "metadata": {},
   "source": [
    "# Imports and Downloads"
   ]
  },
  {
   "cell_type": "code",
   "execution_count": 1,
   "metadata": {},
   "outputs": [],
   "source": [
    "import torch\n",
    "import torch.nn as nn\n",
    "import torch.nn.functional as F\n",
    "import pandas as pd\n",
    "import numpy as np\n",
    "from torch.utils.data import DataLoader, Dataset\n",
    "from tqdm import tqdm\n",
    "from sklearn.metrics import classification_report\n"
   ]
  },
  {
   "cell_type": "code",
   "execution_count": 2,
   "metadata": {},
   "outputs": [],
   "source": [
    "def seed_everything(seed):\n",
    "    torch.manual_seed(seed)\n",
    "    np.random.seed(seed)\n",
    "    torch.cuda.manual_seed(seed)\n",
    "    torch.cuda.manual_seed_all(seed)\n",
    "    torch.backends.cudnn.deterministic = True\n",
    "    torch.backends.cudnn.benchmark = False\n",
    "seed_everything(1)"
   ]
  },
  {
   "cell_type": "markdown",
   "metadata": {},
   "source": [
    "# CNNLSTMClassifiers - To load old models"
   ]
  },
  {
   "cell_type": "code",
   "execution_count": 3,
   "metadata": {},
   "outputs": [],
   "source": [
    "class CNNLSTMClassifier(nn.Module):\n",
    "    def __init__(self, bert, in_channels, cnn_out_channels=64, lstm_hidden_dim=64, num_classes=2):\n",
    "        super(CNNLSTMClassifier, self).__init__()\n",
    "        self.bert = bert\n",
    "        self.cnn = nn.Conv1d(in_channels=in_channels, out_channels=cnn_out_channels, kernel_size=3, padding=1)\n",
    "        self.lstm = nn.LSTM(cnn_out_channels, lstm_hidden_dim, batch_first=True)\n",
    "        self.fc = nn.Linear(lstm_hidden_dim, num_classes)\n",
    "        \n",
    "    def forward(self, input_ids, attention_mask):\n",
    "        with torch.set_grad_enabled(self.bert.training):\n",
    "            bert_output = self.bert(input_ids=input_ids, attention_mask=attention_mask)\n",
    "            embeddings = bert_output.last_hidden_state.permute(0, 2, 1)  # (batch, embed_dim, seq_len)\n",
    "        \n",
    "        cnn_out = self.cnn(embeddings)\n",
    "        \n",
    "        lstm_out, _ = self.lstm(cnn_out.permute(0, 2, 1))  # (batch, seq_len, lstm_hidden_dim)\n",
    "        \n",
    "        logits = self.fc(lstm_out[:, -1, :])  # Use last hidden state for classification\n",
    "        return logits"
   ]
  },
  {
   "cell_type": "markdown",
   "metadata": {},
   "source": [
    "# Calculating weights for models"
   ]
  },
  {
   "cell_type": "code",
   "execution_count": 5,
   "metadata": {},
   "outputs": [],
   "source": [
    "models = [ \"distilbert-base-uncased\", \"huawei-noah/TinyBERT_General_4L_312D\", \"google/electra-small-discriminator\"]\n",
    "val_f1s = [0.8959, 0.8635, 0.8382]"
   ]
  },
  {
   "cell_type": "code",
   "execution_count": 6,
   "metadata": {},
   "outputs": [
    {
     "name": "stdout",
     "output_type": "stream",
     "text": [
      "[0.3449, 0.3324, 0.3227]\n"
     ]
    }
   ],
   "source": [
    "model_weightages = []\n",
    "total_f1s = sum(val_f1s)\n",
    "for i in range(len(val_f1s)):\n",
    "    model_weightages.append(round((val_f1s[i]/total_f1s), 4)) \n",
    "print(model_weightages)"
   ]
  },
  {
   "cell_type": "markdown",
   "metadata": {},
   "source": [
    "# Ensembling Model"
   ]
  },
  {
   "cell_type": "markdown",
   "metadata": {},
   "source": [
    "Here, ensembling will be performed on the already trained baseline models. These transformers are frozen (ie, not trained again). Soft voting is used where each embedding is given a weight, and these weights are marked as a trainable parameter."
   ]
  },
  {
   "cell_type": "code",
   "execution_count": 7,
   "metadata": {},
   "outputs": [],
   "source": [
    "class CNNLSTMEnsemble(nn.Module):\n",
    "    def __init__(self, distilbert, tinybert, electra, model_weightages, cnn_out_channels=64, lstm_hidden_dim=64, num_classes=2):\n",
    "        super(CNNLSTMEnsemble, self).__init__()\n",
    "        self.distilbert = distilbert.bert\n",
    "        self.tinybert = tinybert.bert\n",
    "        self.electra = electra.bert\n",
    "        self.model_weights = nn.Parameter(torch.FloatTensor(model_weightages), requires_grad=True).to(device)\n",
    "        self.tinybert_projection = nn.Linear(312, 768)  # Project TinyBERT to 768\n",
    "        self.electra_projection = nn.Linear(256, 768)   # Project Electra to 768\n",
    "        self.cnn = nn.Conv1d(in_channels=768, out_channels=cnn_out_channels, kernel_size=3, padding=1)\n",
    "        self.lstm = nn.LSTM(cnn_out_channels, lstm_hidden_dim, batch_first=True)\n",
    "        self.fc = nn.Linear(lstm_hidden_dim, num_classes)\n",
    "\n",
    "    def forward(self, distilbert_input_ids, tinybert_input_ids, electra_input_ids, distilbert_attention_mask, tinybert_attention_mask, electra_attention_mask):\n",
    "        with torch.no_grad():\n",
    "            distilbert_output = self.distilbert(input_ids=distilbert_input_ids, attention_mask=distilbert_attention_mask).last_hidden_state\n",
    "            tinybert_output = self.tinybert(input_ids=tinybert_input_ids, attention_mask=tinybert_attention_mask).last_hidden_state\n",
    "            electra_output = self.electra(input_ids=electra_input_ids, attention_mask=electra_attention_mask).last_hidden_state\n",
    "\n",
    "        tinybert_embedding =  F.relu(self.tinybert_projection(tinybert_output)).permute(0, 2, 1)\n",
    "        electra_embedding =  F.relu(self.electra_projection(electra_output)).permute(0, 2, 1) \n",
    "        distilbert_embedding = distilbert_output.permute(0, 2, 1)  \n",
    "\n",
    "        model_weights_n = F.softmax(self.model_weights, dim=0)\n",
    "        combined_embedding = (model_weights_n[0] * tinybert_embedding \n",
    "                              + model_weights_n[1] * electra_embedding \n",
    "                              + model_weights_n[2] * distilbert_embedding)\n",
    "\n",
    "        cnn_out = self.cnn(combined_embedding)\n",
    "        lstm_out, _ = self.lstm(cnn_out.permute(0, 2, 1))\n",
    "\n",
    "        logits = self.fc(lstm_out[:, -1, :])\n",
    "\n",
    "        return logits"
   ]
  },
  {
   "cell_type": "code",
   "execution_count": 8,
   "metadata": {},
   "outputs": [],
   "source": [
    "class CNNLSTMHybridEnsemble(nn.Module):\n",
    "    def __init__(self, distilbert, tinybert, electra, cnn_out_channels=64, lstm_hidden_dim=64, num_classes=2):\n",
    "        super(CNNLSTMHybridEnsemble, self).__init__()\n",
    "        self.distilbert = distilbert.bert\n",
    "        self.tinybert = tinybert.bert\n",
    "        self.electra = electra.bert\n",
    "        \n",
    "        self.tinybert_projection = nn.Linear(312, 768)  # Project TinyBERT to 768\n",
    "        self.electra_projection = nn.Linear(256, 768)   # Project ELECTRA to 768\n",
    "        \n",
    "        self.combination_mlp = nn.Sequential(\n",
    "            nn.Linear(768 * 3, 768),\n",
    "            nn.ReLU(),\n",
    "            nn.Linear(768, 768)\n",
    "        )\n",
    "        \n",
    "        self.cnn = nn.Conv1d(in_channels=768, out_channels=cnn_out_channels, kernel_size=3, padding=1)\n",
    "        self.lstm = nn.LSTM(cnn_out_channels, lstm_hidden_dim, batch_first=True)\n",
    "        \n",
    "        self.fc = nn.Linear(lstm_hidden_dim, num_classes)\n",
    "\n",
    "    def forward(self, distilbert_input_ids, tinybert_input_ids, electra_input_ids, distilbert_attention_mask, tinybert_attention_mask, electra_attention_mask):\n",
    "        with torch.no_grad():\n",
    "            # Get frozen outputs from each pretrained model\n",
    "            distilbert_output = self.distilbert(input_ids=distilbert_input_ids, attention_mask=distilbert_attention_mask).last_hidden_state\n",
    "            tinybert_output = self.tinybert(input_ids=tinybert_input_ids, attention_mask=tinybert_attention_mask).last_hidden_state\n",
    "            electra_output = self.electra(input_ids=electra_input_ids, attention_mask=electra_attention_mask).last_hidden_state\n",
    "\n",
    "        tinybert_embedding = F.relu(self.tinybert_projection(tinybert_output)).permute(0, 2, 1)\n",
    "        electra_embedding = F.relu(self.electra_projection(electra_output)).permute(0, 2, 1)\n",
    "        distilbert_embedding = distilbert_output.permute(0, 2, 1)\n",
    "\n",
    "        combined_embedding = torch.cat((distilbert_embedding, tinybert_embedding, electra_embedding), dim=1)\n",
    "        combined_embedding = self.combination_mlp(combined_embedding.permute(0, 2, 1)).permute(0, 2, 1)\n",
    "\n",
    "        cnn_out = self.cnn(combined_embedding)\n",
    "        lstm_out, _ = self.lstm(cnn_out.permute(0, 2, 1))\n",
    "\n",
    "        # Fully connected layer to get logits\n",
    "        logits = self.fc(lstm_out[:, -1, :])\n"
   ]
  },
  {
   "cell_type": "markdown",
   "metadata": {},
   "source": [
    "# Dataloaders"
   ]
  },
  {
   "cell_type": "code",
   "execution_count": 9,
   "metadata": {},
   "outputs": [],
   "source": [
    "class CustomDataset(Dataset):\n",
    "    def __init__(self, distilbert_tokens, electra_tokens, tinybert_tokens, labels):\n",
    "        self.distilbert_input_ids = distilbert_tokens['input_ids']\n",
    "        self.electra_input_ids = electra_tokens['input_ids']\n",
    "        self.tinybert_input_ids = tinybert_tokens['input_ids']\n",
    "        \n",
    "        self.distilbert_attention_mask = distilbert_tokens['attention_mask']\n",
    "        self.electra_attention_mask =  electra_tokens['attention_mask']\n",
    "        self.tinybert_attention_mask = tinybert_tokens['attention_mask']\n",
    "        \n",
    "        self.labels = labels\n",
    "\n",
    "    def __len__(self):\n",
    "        return len(self.labels)\n",
    "\n",
    "    def __getitem__(self, idx):\n",
    "        return {\n",
    "            'distilbert_input_ids': self.distilbert_input_ids[idx],\n",
    "            'electra_input_ids': self.electra_input_ids[idx],\n",
    "            'tinybert_input_ids': self.tinybert_input_ids[idx], \n",
    "            \n",
    "            'distilbert_attention_mask': self.distilbert_attention_mask[idx],\n",
    "            'electra_attention_mask': self.electra_attention_mask[idx], \n",
    "            'tinybert_attention_mask': self.tinybert_attention_mask[idx], \n",
    "            \n",
    "            'labels': self.labels[idx]\n",
    "        }"
   ]
  },
  {
   "cell_type": "code",
   "execution_count": 10,
   "metadata": {},
   "outputs": [
    {
     "name": "stderr",
     "output_type": "stream",
     "text": [
      "c:\\Users\\Vishal Perumal\\anaconda3\\envs\\gpu\\lib\\site-packages\\tqdm\\auto.py:21: TqdmWarning: IProgress not found. Please update jupyter and ipywidgets. See https://ipywidgets.readthedocs.io/en/stable/user_install.html\n",
      "  from .autonotebook import tqdm as notebook_tqdm\n"
     ]
    }
   ],
   "source": [
    "train_DB_inputs = torch.load('intermediates/DB_inputs.pt')\n",
    "dev_DB_inputs = torch.load('intermediates/DB_dev_inputs.pt')\n",
    "test_DB_inputs = torch.load('intermediates/DB_test_inputs.pt')\n",
    "\n",
    "train_TB_inputs = torch.load('intermediates/TB_inputs.pt')\n",
    "dev_TB_inputs = torch.load('intermediates/TB_dev_inputs.pt')\n",
    "test_TB_inputs = torch.load('intermediates/TB_test_inputs.pt')\n",
    "\n",
    "train_EL_inputs = torch.load('intermediates/EL_inputs.pt')\n",
    "dev_EL_inputs = torch.load('intermediates/EL_dev_inputs.pt')\n",
    "test_EL_inputs = torch.load('intermediates/EL_test_inputs.pt')\n",
    "\n",
    "train_labels = torch.load('intermediates/labels.pt')\n",
    "dev_labels = torch.load('intermediates/labels_dev.pt')\n",
    "test_labels = torch.load('intermediates/labels_test.pt')"
   ]
  },
  {
   "cell_type": "code",
   "execution_count": 11,
   "metadata": {},
   "outputs": [
    {
     "name": "stdout",
     "output_type": "stream",
     "text": [
      "torch.Size([610767, 512])\n",
      "torch.Size([610767, 512])\n",
      "torch.Size([610767, 512])\n",
      "torch.Size([610767])\n"
     ]
    }
   ],
   "source": [
    "print(train_DB_inputs['input_ids'].shape)\n",
    "print(train_EL_inputs['input_ids'].shape)\n",
    "print(train_TB_inputs['input_ids'].shape)\n",
    "print(train_labels.shape)\n"
   ]
  },
  {
   "cell_type": "code",
   "execution_count": 12,
   "metadata": {},
   "outputs": [],
   "source": [
    "train_dataset = CustomDataset(train_DB_inputs, train_EL_inputs, train_TB_inputs, train_labels)\n",
    "dev_dataset = CustomDataset(dev_DB_inputs, dev_EL_inputs, dev_TB_inputs, dev_labels)\n",
    "test_dataset = CustomDataset(test_DB_inputs, test_EL_inputs, test_TB_inputs, test_labels)\n",
    "\n",
    "train_loader = DataLoader(train_dataset, batch_size=10, shuffle=True)\n",
    "dev_loader = DataLoader(dev_dataset, batch_size=10, shuffle=False)\n",
    "test_loader = DataLoader(test_dataset, batch_size=10, shuffle=False) "
   ]
  },
  {
   "cell_type": "markdown",
   "metadata": {},
   "source": [
    "# Adaptive Model Training"
   ]
  },
  {
   "cell_type": "code",
   "execution_count": 13,
   "metadata": {},
   "outputs": [
    {
     "name": "stdout",
     "output_type": "stream",
     "text": [
      "cuda\n"
     ]
    }
   ],
   "source": [
    "device = torch.device(\"cuda\" if torch.cuda.is_available() else \"cpu\")\n",
    "print(device)"
   ]
  },
  {
   "cell_type": "code",
   "execution_count": 14,
   "metadata": {},
   "outputs": [],
   "source": [
    "tinybert = torch.load('models/TB_model.pt')\n",
    "electra = torch.load('models/EL_model.pt')\n",
    "distilbert = torch.load('models/DB_model.pt')\n",
    "\n",
    "# model_tinybert = CNNLSTMClassifier(tinybert)\n",
    "# model_distilbert = CNNLSTMClassifier(distilbert)\n",
    "# model_electra = CNNLSTMClassifier(electra, in_channels=256)\n",
    "\n",
    "# model_tinybert.load_state_dict(torch.load('models/TB_model_dict.pt'))\n",
    "# model_distilbert.load_state_dict(torch.load('models/DB_model_dict.pt'))\n",
    "# model_electra.load_state_dict(torch.load('models/EL_model_dict.pt'))\n"
   ]
  },
  {
   "cell_type": "code",
   "execution_count": 15,
   "metadata": {},
   "outputs": [],
   "source": [
    "ensemble_model = CNNLSTMEnsemble(distilbert, tinybert, electra, model_weightages)\n",
    "ensemble_model = ensemble_model.to(device)"
   ]
  },
  {
   "cell_type": "code",
   "execution_count": 21,
   "metadata": {},
   "outputs": [
    {
     "data": {
      "text/plain": [
       "CNNLSTMEnsemble(\n",
       "  (distilbert): DistilBertModel(\n",
       "    (embeddings): Embeddings(\n",
       "      (word_embeddings): Embedding(30522, 768, padding_idx=0)\n",
       "      (position_embeddings): Embedding(512, 768)\n",
       "      (LayerNorm): LayerNorm((768,), eps=1e-12, elementwise_affine=True)\n",
       "      (dropout): Dropout(p=0.1, inplace=False)\n",
       "    )\n",
       "    (transformer): Transformer(\n",
       "      (layer): ModuleList(\n",
       "        (0-5): 6 x TransformerBlock(\n",
       "          (attention): DistilBertSdpaAttention(\n",
       "            (dropout): Dropout(p=0.1, inplace=False)\n",
       "            (q_lin): Linear(in_features=768, out_features=768, bias=True)\n",
       "            (k_lin): Linear(in_features=768, out_features=768, bias=True)\n",
       "            (v_lin): Linear(in_features=768, out_features=768, bias=True)\n",
       "            (out_lin): Linear(in_features=768, out_features=768, bias=True)\n",
       "          )\n",
       "          (sa_layer_norm): LayerNorm((768,), eps=1e-12, elementwise_affine=True)\n",
       "          (ffn): FFN(\n",
       "            (dropout): Dropout(p=0.1, inplace=False)\n",
       "            (lin1): Linear(in_features=768, out_features=3072, bias=True)\n",
       "            (lin2): Linear(in_features=3072, out_features=768, bias=True)\n",
       "            (activation): GELUActivation()\n",
       "          )\n",
       "          (output_layer_norm): LayerNorm((768,), eps=1e-12, elementwise_affine=True)\n",
       "        )\n",
       "      )\n",
       "    )\n",
       "  )\n",
       "  (tinybert): BertModel(\n",
       "    (embeddings): BertEmbeddings(\n",
       "      (word_embeddings): Embedding(30522, 312, padding_idx=0)\n",
       "      (position_embeddings): Embedding(512, 312)\n",
       "      (token_type_embeddings): Embedding(2, 312)\n",
       "      (LayerNorm): LayerNorm((312,), eps=1e-12, elementwise_affine=True)\n",
       "      (dropout): Dropout(p=0.1, inplace=False)\n",
       "    )\n",
       "    (encoder): BertEncoder(\n",
       "      (layer): ModuleList(\n",
       "        (0-3): 4 x BertLayer(\n",
       "          (attention): BertAttention(\n",
       "            (self): BertSdpaSelfAttention(\n",
       "              (query): Linear(in_features=312, out_features=312, bias=True)\n",
       "              (key): Linear(in_features=312, out_features=312, bias=True)\n",
       "              (value): Linear(in_features=312, out_features=312, bias=True)\n",
       "              (dropout): Dropout(p=0.1, inplace=False)\n",
       "            )\n",
       "            (output): BertSelfOutput(\n",
       "              (dense): Linear(in_features=312, out_features=312, bias=True)\n",
       "              (LayerNorm): LayerNorm((312,), eps=1e-12, elementwise_affine=True)\n",
       "              (dropout): Dropout(p=0.1, inplace=False)\n",
       "            )\n",
       "          )\n",
       "          (intermediate): BertIntermediate(\n",
       "            (dense): Linear(in_features=312, out_features=1200, bias=True)\n",
       "            (intermediate_act_fn): GELUActivation()\n",
       "          )\n",
       "          (output): BertOutput(\n",
       "            (dense): Linear(in_features=1200, out_features=312, bias=True)\n",
       "            (LayerNorm): LayerNorm((312,), eps=1e-12, elementwise_affine=True)\n",
       "            (dropout): Dropout(p=0.1, inplace=False)\n",
       "          )\n",
       "        )\n",
       "      )\n",
       "    )\n",
       "    (pooler): BertPooler(\n",
       "      (dense): Linear(in_features=312, out_features=312, bias=True)\n",
       "      (activation): Tanh()\n",
       "    )\n",
       "  )\n",
       "  (electra): ElectraModel(\n",
       "    (embeddings): ElectraEmbeddings(\n",
       "      (word_embeddings): Embedding(30522, 128, padding_idx=0)\n",
       "      (position_embeddings): Embedding(512, 128)\n",
       "      (token_type_embeddings): Embedding(2, 128)\n",
       "      (LayerNorm): LayerNorm((128,), eps=1e-12, elementwise_affine=True)\n",
       "      (dropout): Dropout(p=0.1, inplace=False)\n",
       "    )\n",
       "    (embeddings_project): Linear(in_features=128, out_features=256, bias=True)\n",
       "    (encoder): ElectraEncoder(\n",
       "      (layer): ModuleList(\n",
       "        (0-11): 12 x ElectraLayer(\n",
       "          (attention): ElectraAttention(\n",
       "            (self): ElectraSelfAttention(\n",
       "              (query): Linear(in_features=256, out_features=256, bias=True)\n",
       "              (key): Linear(in_features=256, out_features=256, bias=True)\n",
       "              (value): Linear(in_features=256, out_features=256, bias=True)\n",
       "              (dropout): Dropout(p=0.1, inplace=False)\n",
       "            )\n",
       "            (output): ElectraSelfOutput(\n",
       "              (dense): Linear(in_features=256, out_features=256, bias=True)\n",
       "              (LayerNorm): LayerNorm((256,), eps=1e-12, elementwise_affine=True)\n",
       "              (dropout): Dropout(p=0.1, inplace=False)\n",
       "            )\n",
       "          )\n",
       "          (intermediate): ElectraIntermediate(\n",
       "            (dense): Linear(in_features=256, out_features=1024, bias=True)\n",
       "            (intermediate_act_fn): GELUActivation()\n",
       "          )\n",
       "          (output): ElectraOutput(\n",
       "            (dense): Linear(in_features=1024, out_features=256, bias=True)\n",
       "            (LayerNorm): LayerNorm((256,), eps=1e-12, elementwise_affine=True)\n",
       "            (dropout): Dropout(p=0.1, inplace=False)\n",
       "          )\n",
       "        )\n",
       "      )\n",
       "    )\n",
       "  )\n",
       "  (tinybert_projection): Linear(in_features=312, out_features=768, bias=True)\n",
       "  (electra_projection): Linear(in_features=256, out_features=768, bias=True)\n",
       "  (cnn): Conv1d(768, 64, kernel_size=(3,), stride=(1,), padding=(1,))\n",
       "  (lstm): LSTM(64, 64, batch_first=True)\n",
       "  (fc): Linear(in_features=64, out_features=2, bias=True)\n",
       ")"
      ]
     },
     "execution_count": 21,
     "metadata": {},
     "output_type": "execute_result"
    }
   ],
   "source": [
    "criterion = nn.CrossEntropyLoss()\n",
    "optimizer = torch.optim.AdamW(ensemble_model.parameters(), lr=2e-5)\n",
    "num_epochs = 1\n",
    "ensemble_model.train()"
   ]
  },
  {
   "cell_type": "code",
   "execution_count": null,
   "metadata": {},
   "outputs": [],
   "source": [
    "def train_model(model, dataloader, criterion, optimizer, num_epochs=1, accumulation_steps=10, device='cuda'):\n",
    "    model.train()\n",
    "    model.zero_grad()\n",
    "    for epoch in range(num_epochs):\n",
    "        total_loss = 0\n",
    "        for i, data in enumerate(tqdm(dataloader)):\n",
    "            distilbert_input_ids = data['distilbert_input_ids'].to(device)\n",
    "            tinybert_input_ids = data['tinybert_input_ids'].to(device)\n",
    "            electra_input_ids = data['electra_input_ids'].to(device)\n",
    "            \n",
    "            distilbert_attention_mask = data['distilbert_attention_mask'].to(device)\n",
    "            tinybert_attention_mask = data['tinybert_attention_mask'].to(device)\n",
    "            electra_attention_mask = data['electra_attention_mask'].to(device)\n",
    "            \n",
    "            labels = data['labels'].to(device)\n",
    "            \n",
    "            outputs = model(distilbert_input_ids, tinybert_input_ids, electra_input_ids, distilbert_attention_mask, tinybert_attention_mask, electra_attention_mask)\n",
    "            loss = criterion(outputs, labels)\n",
    "            loss = loss / accumulation_steps\n",
    "            loss.backward(retain_graph=True)\n",
    "            total_loss += loss.item()\n",
    "            \n",
    "            if ((i + 1) % accumulation_steps == 0) or (i+1 == len(dataloader)):\n",
    "                optimizer.step()\n",
    "                model.zero_grad()\n",
    "\n",
    "        avg_loss = total_loss / len(dataloader)\n",
    "        print(f'Epoch {epoch + 1}/{num_epochs}, Loss: {avg_loss:.4f}')\n",
    "    return model"
   ]
  },
  {
   "cell_type": "code",
   "execution_count": 28,
   "metadata": {},
   "outputs": [],
   "source": [
    "def evaluate_model(model, dataloader, device):\n",
    "    model.eval()\n",
    "    predictions, true_labels = [], []\n",
    "    print(\"Classification Report:\\n\")\n",
    "    with torch.no_grad():\n",
    "        for batches in tqdm(dataloader):\n",
    "            distilbert_input_ids = batches['distilbert_input_ids'].to(device)\n",
    "            tinybert_input_ids = batches['tinybert_input_ids'].to(device)\n",
    "            electra_input_ids = batches['electra_input_ids'].to(device)\n",
    "            \n",
    "            distilbert_attention_mask = batches['distilbert_attention_mask'].to(device)\n",
    "            tinybert_attention_mask = batches['tinybert_attention_mask'].to(device)\n",
    "            electra_attention_mask = batches['electra_attention_mask'].to(device)\n",
    "            \n",
    "            labels = batches['labels'].to(device)\n",
    "            \n",
    "            outputs = model(distilbert_input_ids, tinybert_input_ids, electra_input_ids, distilbert_attention_mask, tinybert_attention_mask, electra_attention_mask)\n",
    "            _, preds = torch.max(outputs, dim=1)\n",
    "            \n",
    "            predictions.extend(preds.cpu().numpy())\n",
    "            true_labels.extend(labels.cpu().numpy())\n",
    "    \n",
    "    report = classification_report(true_labels, predictions, digits=4)\n",
    "    print(report)"
   ]
  },
  {
   "cell_type": "code",
   "execution_count": 29,
   "metadata": {},
   "outputs": [],
   "source": [
    "def test_model(model, dataloader, device):\n",
    "    model.eval()\n",
    "    predictions, true_labels = [], []\n",
    "    print(\"Classification Report:\\n\")\n",
    "    with torch.no_grad():\n",
    "        for batches in tqdm(dataloader):\n",
    "            distilbert_input_ids = batches['distilbert_input_ids'].to(device)\n",
    "            tinybert_input_ids = batches['tinybert_input_ids'].to(device)\n",
    "            electra_input_ids = batches['electra_input_ids'].to(device)\n",
    "            \n",
    "            distilbert_attention_mask = batches['distilbert_attention_mask'].to(device)\n",
    "            tinybert_attention_mask = batches['tinybert_attention_mask'].to(device)\n",
    "            electra_attention_mask = batches['electra_attention_mask'].to(device)\n",
    "            \n",
    "            labels = batches['labels'].to(device)\n",
    "            \n",
    "            outputs = model(distilbert_input_ids, tinybert_input_ids, electra_input_ids, distilbert_attention_mask, tinybert_attention_mask, electra_attention_mask)\n",
    "            _, preds = torch.max(outputs, dim=1)\n",
    "            \n",
    "            predictions.extend(preds.cpu().numpy())\n",
    "            true_labels.extend(labels.cpu().numpy())\n",
    "    \n",
    "    report = classification_report(true_labels, predictions, digits=4)\n",
    "    print(report)\n",
    "    return predictions, true_labels"
   ]
  },
  {
   "cell_type": "code",
   "execution_count": 24,
   "metadata": {},
   "outputs": [
    {
     "name": "stderr",
     "output_type": "stream",
     "text": [
      "100%|██████████| 61077/61077 [3:12:56<00:00,  5.28it/s]  "
     ]
    },
    {
     "name": "stdout",
     "output_type": "stream",
     "text": [
      "Epoch 1/1, Loss: 0.0157\n"
     ]
    },
    {
     "name": "stderr",
     "output_type": "stream",
     "text": [
      "\n"
     ]
    }
   ],
   "source": [
    "ensemble_model = train_model(ensemble_model, train_loader, criterion, optimizer, num_epochs, device=device)"
   ]
  },
  {
   "cell_type": "code",
   "execution_count": 25,
   "metadata": {},
   "outputs": [],
   "source": [
    "torch.save(ensemble_model, 'models/ensemble_model_ae.pt')"
   ]
  },
  {
   "cell_type": "code",
   "execution_count": 30,
   "metadata": {},
   "outputs": [
    {
     "name": "stdout",
     "output_type": "stream",
     "text": [
      "Classification Report:\n",
      "\n"
     ]
    },
    {
     "name": "stderr",
     "output_type": "stream",
     "text": [
      "100%|██████████| 26176/26176 [1:15:37<00:00,  5.77it/s]\n"
     ]
    },
    {
     "name": "stdout",
     "output_type": "stream",
     "text": [
      "              precision    recall  f1-score   support\n",
      "\n",
      "           0     0.9221    0.8128    0.8640     98328\n",
      "           1     0.8948    0.9587    0.9257    163430\n",
      "\n",
      "    accuracy                         0.9039    261758\n",
      "   macro avg     0.9085    0.8857    0.8948    261758\n",
      "weighted avg     0.9051    0.9039    0.9025    261758\n",
      "\n"
     ]
    }
   ],
   "source": [
    "evaluate_model(ensemble_model, dev_loader, device)"
   ]
  },
  {
   "cell_type": "code",
   "execution_count": 32,
   "metadata": {},
   "outputs": [
    {
     "name": "stdout",
     "output_type": "stream",
     "text": [
      "Classification Report:\n",
      "\n"
     ]
    },
    {
     "name": "stderr",
     "output_type": "stream",
     "text": [
      "100%|██████████| 7395/7395 [21:18<00:00,  5.78it/s]"
     ]
    },
    {
     "name": "stdout",
     "output_type": "stream",
     "text": [
      "              precision    recall  f1-score   support\n",
      "\n",
      "           0     0.8358    0.5261    0.6457     34675\n",
      "           1     0.6847    0.9087    0.7809     39266\n",
      "\n",
      "    accuracy                         0.7293     73941\n",
      "   macro avg     0.7602    0.7174    0.7133     73941\n",
      "weighted avg     0.7555    0.7293    0.7175     73941\n",
      "\n"
     ]
    },
    {
     "name": "stderr",
     "output_type": "stream",
     "text": [
      "\n"
     ]
    }
   ],
   "source": [
    "all_predictions, all_labels = test_model(ensemble_model, test_loader, device)"
   ]
  },
  {
   "cell_type": "code",
   "execution_count": 33,
   "metadata": {},
   "outputs": [],
   "source": [
    "torch.save(all_predictions, 'predictions/ensemble_ae_predictions.pt')"
   ]
  }
 ],
 "metadata": {
  "kernelspec": {
   "display_name": "gpu",
   "language": "python",
   "name": "python3"
  },
  "language_info": {
   "codemirror_mode": {
    "name": "ipython",
    "version": 3
   },
   "file_extension": ".py",
   "mimetype": "text/x-python",
   "name": "python",
   "nbconvert_exporter": "python",
   "pygments_lexer": "ipython3",
   "version": "3.9.19"
  }
 },
 "nbformat": 4,
 "nbformat_minor": 2
}
